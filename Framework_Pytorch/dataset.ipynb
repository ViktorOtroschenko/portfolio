{
 "cells": [
  {
   "cell_type": "markdown",
   "id": "ea25e3e8",
   "metadata": {},
   "source": [
    "### Создание DataSet"
   ]
  },
  {
   "cell_type": "markdown",
   "id": "9c841eff",
   "metadata": {},
   "source": [
    "Загрузим все необходимые библиотеки и начнем:"
   ]
  },
  {
   "cell_type": "code",
   "execution_count": 1,
   "id": "4228e873",
   "metadata": {},
   "outputs": [],
   "source": [
    "import cv2\n",
    "import numpy as np\n",
    "import pickle\n",
    "import mediapipe as mp"
   ]
  },
  {
   "cell_type": "code",
   "execution_count": 2,
   "id": "af6a6cb2",
   "metadata": {},
   "outputs": [],
   "source": [
    "mp_drawing = mp.solutions.drawing_utils\n",
    "mp_hands = mp.solutions.hands"
   ]
  },
  {
   "cell_type": "markdown",
   "id": "f43f932e",
   "metadata": {},
   "source": [
    "Создадим функцию для сериализации видео с помощью модуля pickle"
   ]
  },
  {
   "cell_type": "code",
   "execution_count": 3,
   "id": "fdf954e3",
   "metadata": {},
   "outputs": [],
   "source": [
    "def save_data(obj, name):\n",
    "    with open('data/' + name + '.pkl', 'wb') as f:\n",
    "        pickle.dump(obj, f, pickle.HIGHEST_PROTOCOL)"
   ]
  },
  {
   "cell_type": "markdown",
   "id": "95e04545",
   "metadata": {},
   "source": [
    "Создадим датасеты на каждый наш жест "
   ]
  },
  {
   "cell_type": "code",
   "execution_count": 6,
   "id": "226db1b0",
   "metadata": {},
   "outputs": [
    {
     "name": "stdout",
     "output_type": "stream",
     "text": [
      "Ignoring empty camera frame.\n",
      "Ignoring empty camera frame.\n",
      "Ignoring empty camera frame.\n",
      "Ignoring empty camera frame.\n"
     ]
    }
   ],
   "source": [
    "#Создадим список с нашими жестами\n",
    "files = ['I.mp4', 'Ok.mp4', 'Palm.mp4', 'Thumb.mp4']\n",
    "for file in files:\n",
    "    \n",
    "    cap = cv2.VideoCapture(file) \n",
    "    # Сделаем разгранечения на каждый жест\n",
    "    label = None\n",
    "    if file[:1] == 'I':\n",
    "        label = 0\n",
    "    if file[:2] == 'Ok':\n",
    "        label = 1\n",
    "    if file[:4] == 'Palm':\n",
    "        label = 2\n",
    "    if file[:5] == 'Thumb':\n",
    "        label = 3\n",
    "\n",
    "    # За основу взят пример распознования рук библиотеки mediapipe \n",
    "    data_list=[]\n",
    "    count=0\n",
    "    with mp_hands.Hands(\n",
    "        min_detection_confidence=0.75,\n",
    "        min_tracking_confidence=0.5,\n",
    "        max_num_hands=1\n",
    "    ) as hands:\n",
    "        while cap.isOpened():\n",
    "            success, image = cap.read()\n",
    "            if not success:\n",
    "                print(\"Ignoring empty camera frame.\")\n",
    "                # If loading a video, use 'break' instead of 'continue'.\n",
    "                break\n",
    "\n",
    "            palm_vector_list = []\n",
    "\n",
    "            # Flip the image horizontally for a later selfie-view display, and convert\n",
    "            # the BGR image to RGB.\n",
    "            count=count+1\n",
    "            image = cv2.cvtColor(cv2.flip(image, 1), cv2.COLOR_BGR2RGB)\n",
    "            \n",
    "            # To improve performance, optionally mark the image as not writeable to\n",
    "            # pass by reference.\n",
    "            image.flags.writeable = False\n",
    "            results = hands.process(image)\n",
    "\n",
    "            # Draw the face mesh annotations on the image.\n",
    "            image.flags.writeable = True\n",
    "            image = cv2.cvtColor(image, cv2.COLOR_RGB2BGR)\n",
    "            if results.multi_hand_landmarks:\n",
    "                for hand_landmarks in results.multi_hand_landmarks:\n",
    "                    for n_point in range(len(results.multi_hand_landmarks[0].landmark)):\n",
    "                            palm_vector_list.append(hand_landmarks.landmark[n_point].x)\n",
    "                            palm_vector_list.append(hand_landmarks.landmark[n_point].y)                        \n",
    "                            palm_vector_list.append(hand_landmarks.landmark[n_point].z)                \n",
    "                    mp_drawing.draw_landmarks(image, hand_landmarks, mp_hands.HAND_CONNECTIONS) \n",
    "\n",
    "                # Добавляем метку каждому жесту жеста\n",
    "                palm_vector_list.append(label)\n",
    "                data_list.append(np.array(palm_vector_list))\n",
    "   \n",
    "                cv2.putText(image, \n",
    "                        'Hands', (100, 200), cv2.FONT_HERSHEY_SIMPLEX, 1, (0, 255, 0), 2, cv2.LINE_AA)\n",
    "                cv2.namedWindow('MediaPipe Hands', cv2.WINDOW_NORMAL) # Были проблемы с отображением (окно больших размеров)\n",
    "                cv2.imshow('MediaPipe Hands', image)\n",
    "\n",
    "            if cv2.waitKey(5) & 0xFF == 27:\n",
    "                break\n",
    "\n",
    "    d=np.array(data_list)\n",
    "    save_data(d, 'data__' + str((label)))   \n",
    "    cap.release()\n",
    "    cv2.destroyAllWindows()"
   ]
  },
  {
   "cell_type": "code",
   "execution_count": null,
   "id": "ee3cacc3",
   "metadata": {},
   "outputs": [],
   "source": []
  }
 ],
 "metadata": {
  "kernelspec": {
   "display_name": "Python 3",
   "language": "python",
   "name": "python3"
  },
  "language_info": {
   "codemirror_mode": {
    "name": "ipython",
    "version": 3
   },
   "file_extension": ".py",
   "mimetype": "text/x-python",
   "name": "python",
   "nbconvert_exporter": "python",
   "pygments_lexer": "ipython3",
   "version": "3.7.10"
  }
 },
 "nbformat": 4,
 "nbformat_minor": 5
}
