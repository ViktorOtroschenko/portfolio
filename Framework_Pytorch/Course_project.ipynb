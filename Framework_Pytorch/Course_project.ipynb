{
 "cells": [
  {
   "cell_type": "markdown",
   "id": "9ebe6f51",
   "metadata": {},
   "source": [
    "# Курсовая работа\n",
    "\n",
    "Нужно написать приложение, которое будет считывать и выводить кадры с веб-камеры. В процессе считывания определять что перед камерой находится человек, задетектировав его лицо на кадре. После этого, человек показывает жесты руками, а алгоритм должен считать их и определенным образом реагировать на эти жесты. \n",
    "\n",
    "На то, как система будет реагировать на определенные жесты - выбор за вами. Например, на определенный жест (жест пис), система будет здороваться с человеком. На другой, будет делать скриншот экрана. И т.д.\n",
    "Для распознавания жестов, вам надо будет скачать датасет для жестов рук. "
   ]
  },
  {
   "cell_type": "markdown",
   "id": "8268d0fd",
   "metadata": {},
   "source": [
    "Для курсовой работы был использован свой датасет, где было смонтировано видео с каждым жестом. Для разметки и сбора данных была использована бибилиотека __mediapipe__.\n",
    "\n",
    "Итогом работы стало, что сеть обучается на наших данных и в режиме просмотра видео (также в режиме онлайн) выводит на экране название знакомого ей жеста. При появлении жеста __'Palm'__ система делает скриншот и записывает картинку в папку, при появлении жеста __'Ok'__ система здоровается с человеком. Также по итогу работы сеть ведет журнал с записями знакомых ей жестов. "
   ]
  },
  {
   "cell_type": "markdown",
   "id": "83eed079",
   "metadata": {},
   "source": [
    "__Загрузим все необходимые библиотеки и начнем:__"
   ]
  },
  {
   "cell_type": "code",
   "execution_count": 14,
   "id": "20a36f78",
   "metadata": {},
   "outputs": [],
   "source": [
    "import cv2\n",
    "import numpy as np\n",
    "import pickle\n",
    "import mediapipe as mp\n",
    "import math\n",
    "import time\n",
    "\n",
    "import torch\n",
    "from torch import nn\n",
    "from torch.utils.data import DataLoader, Dataset\n",
    "from torch import optim\n",
    "\n",
    "from facenet_pytorch import MTCNN\n",
    "\n",
    "import matplotlib.pyplot as plt\n",
    "%matplotlib inline"
   ]
  },
  {
   "cell_type": "code",
   "execution_count": 15,
   "id": "145af6d2",
   "metadata": {},
   "outputs": [],
   "source": [
    "mp_drawing = mp.solutions.drawing_utils\n",
    "mp_hands = mp.solutions.hands"
   ]
  },
  {
   "cell_type": "markdown",
   "id": "3b87afdf",
   "metadata": {},
   "source": [
    "Создадим функцию для десериализации видео с помощью модуля pickle"
   ]
  },
  {
   "cell_type": "code",
   "execution_count": 16,
   "id": "2e9f5327",
   "metadata": {},
   "outputs": [],
   "source": [
    "def load_data(name):\n",
    "    with open('data/' + name + '.pkl', 'rb') as f:\n",
    "        return pickle.load(f)"
   ]
  },
  {
   "cell_type": "markdown",
   "id": "5d3c9c75",
   "metadata": {},
   "source": [
    "Проверим оборудование"
   ]
  },
  {
   "cell_type": "code",
   "execution_count": 50,
   "id": "772da4cb",
   "metadata": {},
   "outputs": [
    {
     "name": "stdout",
     "output_type": "stream",
     "text": [
      "cuda\n"
     ]
    }
   ],
   "source": [
    "device = torch.device('cuda') if torch.cuda.is_available() else torch.device('cpu')\n",
    "print(device)"
   ]
  },
  {
   "cell_type": "markdown",
   "id": "ce7f7687",
   "metadata": {},
   "source": [
    "## Часть 1. Подготовка данных"
   ]
  },
  {
   "cell_type": "markdown",
   "id": "439bf0fd",
   "metadata": {},
   "source": [
    "Шаг 1. Загрузим данные"
   ]
  },
  {
   "cell_type": "code",
   "execution_count": 52,
   "id": "d77650c0",
   "metadata": {},
   "outputs": [],
   "source": [
    "file_i = 'data__0'\n",
    "file_ok = 'data__1'\n",
    "file_palm = 'data__2'\n",
    "file_thumb = 'data__3'"
   ]
  },
  {
   "cell_type": "code",
   "execution_count": 55,
   "id": "aed5e288",
   "metadata": {},
   "outputs": [],
   "source": [
    "data_i = load_data(file_i)\n",
    "data_ok = load_data(file_ok)\n",
    "data_palm = load_data(file_palm)\n",
    "data_thumb = load_data(file_thumb)"
   ]
  },
  {
   "cell_type": "markdown",
   "id": "7a2bc6e1",
   "metadata": {},
   "source": [
    "Шаг 2. Соединим массивы с данными"
   ]
  },
  {
   "cell_type": "code",
   "execution_count": 59,
   "id": "8fecf8f9",
   "metadata": {},
   "outputs": [],
   "source": [
    "data_1 = np.vstack((data_i, data_ok))\n",
    "data_2 = np.vstack((data_palm, data_thumb))\n",
    "data = np.vstack((data_1, data_2))"
   ]
  },
  {
   "cell_type": "markdown",
   "id": "df3dbebd",
   "metadata": {},
   "source": [
    "Шаг 3. Перемешаем наш итоговый массив с данными"
   ]
  },
  {
   "cell_type": "code",
   "execution_count": 60,
   "id": "bbc92d67",
   "metadata": {},
   "outputs": [],
   "source": [
    "perm = np.random.permutation(len(data))\n",
    "data = data[perm]"
   ]
  },
  {
   "cell_type": "markdown",
   "id": "d7daa4b0",
   "metadata": {},
   "source": [
    "Посмотрим что получилось"
   ]
  },
  {
   "cell_type": "code",
   "execution_count": 61,
   "id": "2ec58620",
   "metadata": {},
   "outputs": [
    {
     "data": {
      "text/plain": [
       "((1232, 64), (1302, 64), (1277, 64), (1281, 64), (5092, 64))"
      ]
     },
     "execution_count": 61,
     "metadata": {},
     "output_type": "execute_result"
    }
   ],
   "source": [
    "data_i.shape, data_ok.shape, data_palm.shape, data_thumb.shape, data.shape"
   ]
  },
  {
   "cell_type": "code",
   "execution_count": 62,
   "id": "1081c32d",
   "metadata": {},
   "outputs": [
    {
     "data": {
      "text/plain": [
       "array([[ 4.05458391e-01,  5.14494717e-01, -6.18022314e-05, ...,\n",
       "         4.75846380e-01, -4.51643705e-01,  3.00000000e+00],\n",
       "       [ 3.97533625e-01,  5.49053490e-01, -4.11624787e-05, ...,\n",
       "         3.44248593e-01, -1.48946017e-01,  1.00000000e+00],\n",
       "       [ 6.18091464e-01,  6.69821143e-01, -6.42927116e-05, ...,\n",
       "         5.63005924e-01,  8.60442072e-02,  3.00000000e+00],\n",
       "       ...,\n",
       "       [ 6.42363131e-01,  5.27218938e-01,  4.95112654e-05, ...,\n",
       "         4.71172720e-01, -6.57133237e-02,  3.00000000e+00],\n",
       "       [ 5.67390680e-01,  7.55060136e-01, -1.77461057e-04, ...,\n",
       "         4.43612635e-01, -5.23953848e-02,  2.00000000e+00],\n",
       "       [ 1.16367780e-01,  5.42504191e-01, -2.50578305e-04, ...,\n",
       "         5.10196567e-01, -5.91915131e-01,  3.00000000e+00]])"
      ]
     },
     "execution_count": 62,
     "metadata": {},
     "output_type": "execute_result"
    }
   ],
   "source": [
    "data"
   ]
  },
  {
   "cell_type": "markdown",
   "id": "8b5875d2",
   "metadata": {},
   "source": [
    "Шаг 4. Создадим классы наших жестов"
   ]
  },
  {
   "cell_type": "code",
   "execution_count": 63,
   "id": "2ca945fe",
   "metadata": {},
   "outputs": [],
   "source": [
    "LABELS = ['I', 'Ok', 'Palm', 'Thumb']"
   ]
  },
  {
   "cell_type": "markdown",
   "id": "d066b56c",
   "metadata": {},
   "source": [
    "Шаг 5. Разделим наши данные"
   ]
  },
  {
   "cell_type": "code",
   "execution_count": 64,
   "id": "1cf229a0",
   "metadata": {},
   "outputs": [
    {
     "data": {
      "text/plain": [
       "((5092, 63), (5092,))"
      ]
     },
     "execution_count": 64,
     "metadata": {},
     "output_type": "execute_result"
    }
   ],
   "source": [
    "X_data = data[:,:-1]\n",
    "y_data = data[:,-1].astype('int64')\n",
    "X_data.shape, y_data.shape"
   ]
  },
  {
   "cell_type": "markdown",
   "id": "43d0cf52",
   "metadata": {},
   "source": [
    "Шаг 6. Создадим наш Dataloader"
   ]
  },
  {
   "cell_type": "code",
   "execution_count": 65,
   "id": "39a8ca17",
   "metadata": {},
   "outputs": [],
   "source": [
    "class Skeleton_Dataset(Dataset):\n",
    "    def __init__(self, X, y=None):\n",
    "        self.data = X\n",
    "        self.labels = y\n",
    "\n",
    "    def __len__(self):\n",
    "        return len(self.data) \n",
    "       \n",
    "    def __getitem__(self, idx):\n",
    "        item = self.data[idx]        \n",
    "        label = self.labels[idx]        \n",
    "        return (item, label)"
   ]
  },
  {
   "cell_type": "code",
   "execution_count": 67,
   "id": "212b15e6",
   "metadata": {},
   "outputs": [],
   "source": [
    "dataset = Skeleton_Dataset(X_data, y_data)"
   ]
  },
  {
   "cell_type": "markdown",
   "id": "14918dde",
   "metadata": {},
   "source": [
    "Будем использовать 75 % в тренировочную выборку, 25 - в тестовую "
   ]
  },
  {
   "cell_type": "code",
   "execution_count": 85,
   "id": "868c3960",
   "metadata": {},
   "outputs": [],
   "source": [
    "train_dataset, test_dataset = torch.utils.data.random_split(dataset, [int(0.75*len(dataset)), int(0.25*len(dataset))])\n",
    "\n",
    "train_loader = DataLoader(train_dataset, batch_size = 256, shuffle=True)\n",
    "test_loader = DataLoader(test_dataset, batch_size = 1, shuffle=True)"
   ]
  },
  {
   "cell_type": "markdown",
   "id": "ac7801af",
   "metadata": {},
   "source": [
    "## Часть 2. Создание модели"
   ]
  },
  {
   "cell_type": "code",
   "execution_count": 86,
   "id": "b5a5f165",
   "metadata": {},
   "outputs": [],
   "source": [
    "class ResNet(nn.Module):\n",
    "    def __init__(self, input_dim, output_dim):\n",
    "        super().__init__()\n",
    "      \n",
    "        self.output_dim = output_dim\n",
    "        self.fc1 = torch.nn.Linear(input_dim, 256)\n",
    "        self.elu1 = torch.nn.ELU(inplace=True)\n",
    "        self.fc2 = torch.nn.Linear(256, 512)        \n",
    "        self.elu2 = torch.nn.ELU(inplace=True)        \n",
    "        self.dr1 = torch.nn.Dropout(0.5)\n",
    "        self.fc3 = torch.nn.Linear(512, output_dim)\n",
    "        self.sm = torch.nn.Softmax(dim=1)\n",
    "        \n",
    "        \n",
    "    def forward(self, inputs):\n",
    "        x = inputs\n",
    "        x = self.fc1(x)\n",
    "        x = self.elu1(x)\n",
    "        x = self.fc2(x)\n",
    "        x = self.elu2(x)        \n",
    "        x = self.dr1(x)    \n",
    "        x = self.fc3(x)        \n",
    "        out = self.sm(x)\n",
    "        \n",
    "        return out"
   ]
  },
  {
   "cell_type": "code",
   "execution_count": 87,
   "id": "0be3c99c",
   "metadata": {},
   "outputs": [
    {
     "data": {
      "text/plain": [
       "ResNet(\n",
       "  (fc1): Linear(in_features=63, out_features=256, bias=True)\n",
       "  (elu1): ELU(alpha=1.0, inplace=True)\n",
       "  (fc2): Linear(in_features=256, out_features=512, bias=True)\n",
       "  (elu2): ELU(alpha=1.0, inplace=True)\n",
       "  (dr1): Dropout(p=0.5, inplace=False)\n",
       "  (fc3): Linear(in_features=512, out_features=4, bias=True)\n",
       "  (sm): Softmax(dim=1)\n",
       ")"
      ]
     },
     "execution_count": 87,
     "metadata": {},
     "output_type": "execute_result"
    }
   ],
   "source": [
    "input_dim = 63\n",
    "output_dim = len(LABELS)\n",
    "net = ResNet(input_dim, output_dim)\n",
    "net.to(device)"
   ]
  },
  {
   "cell_type": "code",
   "execution_count": 88,
   "id": "38fe726b",
   "metadata": {},
   "outputs": [],
   "source": [
    "def categoryFromOutput(output):\n",
    "    top_n, top_i = output.topk(1)\n",
    "    category_i = top_i[0].item()\n",
    "\n",
    "    return LABELS[category_i], category_i\n",
    "\n",
    "def timeSince(since):\n",
    "    now = time.time()\n",
    "    s = now - since\n",
    "    m = math.floor(s / 60)\n",
    "    s -= m * 60\n",
    "    \n",
    "    return '%dm %ds' % (m, s)"
   ]
  },
  {
   "cell_type": "markdown",
   "id": "6c74b36c",
   "metadata": {},
   "source": [
    "## Часть 3. Обучение"
   ]
  },
  {
   "cell_type": "code",
   "execution_count": 89,
   "id": "9f272840",
   "metadata": {},
   "outputs": [],
   "source": [
    "# Если работаете на гпу, очищаем весь кэш\n",
    "if torch.cuda.is_available(): \n",
    "    torch.cuda.empty_cache()\n",
    "    \n",
    "epochs = 2000\n",
    "lr = 0.001"
   ]
  },
  {
   "cell_type": "code",
   "execution_count": 90,
   "id": "9974e4ff",
   "metadata": {},
   "outputs": [],
   "source": [
    "criterion = nn.CrossEntropyLoss()\n",
    "optimizer = optim.SGD(net.parameters(), lr=lr, momentum=0.9)"
   ]
  },
  {
   "cell_type": "code",
   "execution_count": 91,
   "id": "eef192b5",
   "metadata": {},
   "outputs": [
    {
     "name": "stdout",
     "output_type": "stream",
     "text": [
      "2000 epochs, 15 total_steps per epoch\n"
     ]
    }
   ],
   "source": [
    "total_steps = len(train_loader)\n",
    "print(f'{epochs} epochs, {total_steps} total_steps per epoch')"
   ]
  },
  {
   "cell_type": "code",
   "execution_count": 92,
   "id": "86dfec79",
   "metadata": {
    "scrolled": true
   },
   "outputs": [
    {
     "name": "stdout",
     "output_type": "stream",
     "text": [
      "epoch : 0 iter : 0 (0m 0s) 1.3877  / I ✗ (Thumb)\n",
      "epoch : 33 iter : 5 (0m 1s) 1.3816  / Ok ✓\n",
      "epoch : 66 iter : 10 (0m 2s) 1.3701  / Ok ✗ (Thumb)\n",
      "epoch : 100 iter : 0 (0m 4s) 1.3502  / Ok ✗ (I)\n",
      "epoch : 133 iter : 5 (0m 5s) 1.3385  / Ok ✗ (Thumb)\n",
      "epoch : 166 iter : 10 (0m 7s) 1.3212  / Ok ✗ (Palm)\n",
      "epoch : 200 iter : 0 (0m 8s) 1.2891  / I ✓\n",
      "epoch : 233 iter : 5 (0m 10s) 1.2384  / Thumb ✓\n",
      "epoch : 266 iter : 10 (0m 11s) 1.1916  / Ok ✓\n",
      "epoch : 300 iter : 0 (0m 12s) 1.1495  / Ok ✗ (Palm)\n",
      "epoch : 333 iter : 5 (0m 14s) 1.0926  / Thumb ✓\n",
      "epoch : 366 iter : 10 (0m 15s) 1.0359  / Ok ✓\n",
      "epoch : 400 iter : 0 (0m 16s) 0.9814  / Ok ✓\n",
      "epoch : 433 iter : 5 (0m 18s) 0.9215  / Palm ✓\n",
      "epoch : 466 iter : 10 (0m 19s) 0.8857  / I ✓\n",
      "epoch : 500 iter : 0 (0m 21s) 0.8642  / Palm ✓\n",
      "epoch : 533 iter : 5 (0m 22s) 0.8435  / Thumb ✓\n",
      "epoch : 566 iter : 10 (0m 24s) 0.8274  / I ✓\n",
      "epoch : 600 iter : 0 (0m 25s) 0.8163  / Ok ✓\n",
      "epoch : 633 iter : 5 (0m 26s) 0.8156  / Thumb ✗ (Palm)\n",
      "epoch : 666 iter : 10 (0m 28s) 0.8064  / I ✓\n",
      "epoch : 700 iter : 0 (0m 29s) 0.8281  / I ✓\n",
      "epoch : 733 iter : 5 (0m 31s) 0.7833  / I ✓\n",
      "epoch : 766 iter : 10 (0m 32s) 0.8128  / Ok ✓\n",
      "epoch : 800 iter : 0 (0m 34s) 0.8069  / I ✓\n",
      "epoch : 833 iter : 5 (0m 35s) 0.7863  / Thumb ✓\n",
      "epoch : 866 iter : 10 (0m 37s) 0.8028  / Thumb ✓\n",
      "epoch : 900 iter : 0 (0m 38s) 0.8046  / Ok ✓\n",
      "epoch : 933 iter : 5 (0m 39s) 0.8110  / Thumb ✓\n",
      "epoch : 966 iter : 10 (0m 41s) 0.7949  / I ✓\n",
      "epoch : 1000 iter : 0 (0m 42s) 0.7837  / Ok ✓\n",
      "epoch : 1033 iter : 5 (0m 44s) 0.8004  / Ok ✓\n",
      "epoch : 1066 iter : 10 (0m 45s) 0.8050  / Palm ✓\n",
      "epoch : 1100 iter : 0 (0m 46s) 0.7815  / I ✓\n",
      "epoch : 1133 iter : 5 (0m 48s) 0.8015  / Palm ✓\n",
      "epoch : 1166 iter : 10 (0m 49s) 0.7640  / I ✓\n",
      "epoch : 1200 iter : 0 (0m 51s) 0.7788  / I ✓\n",
      "epoch : 1233 iter : 5 (0m 52s) 0.7758  / Thumb ✓\n",
      "epoch : 1266 iter : 10 (0m 53s) 0.7821  / Thumb ✓\n",
      "epoch : 1300 iter : 0 (0m 55s) 0.7746  / Thumb ✓\n",
      "epoch : 1333 iter : 5 (0m 56s) 0.7813  / I ✓\n",
      "epoch : 1366 iter : 10 (0m 58s) 0.7857  / Palm ✓\n",
      "epoch : 1400 iter : 0 (0m 59s) 0.7866  / Thumb ✓\n",
      "epoch : 1433 iter : 5 (1m 0s) 0.7757  / Ok ✓\n",
      "epoch : 1466 iter : 10 (1m 2s) 0.7904  / Palm ✓\n",
      "epoch : 1500 iter : 0 (1m 3s) 0.7756  / Thumb ✗ (Palm)\n",
      "epoch : 1533 iter : 5 (1m 5s) 0.7867  / Palm ✓\n",
      "epoch : 1566 iter : 10 (1m 6s) 0.7737  / Thumb ✓\n",
      "epoch : 1600 iter : 0 (1m 8s) 0.7696  / Ok ✓\n",
      "epoch : 1633 iter : 5 (1m 9s) 0.7804  / Ok ✓\n",
      "epoch : 1666 iter : 10 (1m 10s) 0.7672  / Thumb ✓\n",
      "epoch : 1700 iter : 0 (1m 12s) 0.7594  / Palm ✓\n",
      "epoch : 1733 iter : 5 (1m 13s) 0.7750  / Ok ✓\n",
      "epoch : 1766 iter : 10 (1m 15s) 0.7894  / I ✓\n",
      "epoch : 1800 iter : 0 (1m 16s) 0.7826  / I ✓\n",
      "epoch : 1833 iter : 5 (1m 17s) 0.7919  / Thumb ✓\n",
      "epoch : 1866 iter : 10 (1m 19s) 0.8060  / Palm ✓\n",
      "epoch : 1900 iter : 0 (1m 20s) 0.7673  / Thumb ✓\n",
      "epoch : 1933 iter : 5 (1m 22s) 0.7730  / Ok ✓\n",
      "epoch : 1966 iter : 10 (1m 23s) 0.7855  / I ✓\n"
     ]
    }
   ],
   "source": [
    "all_losses = []\n",
    "start = time.time()\n",
    "counter = 0\n",
    "for epoch in range(epochs):  \n",
    "    current_loss = 0\n",
    "    running_loss = 0.0\n",
    "    for i, data in enumerate(train_loader, 0):\n",
    "        \n",
    "        inputs, labels = data[0].to(device), data[1].to(device)\n",
    "        optimizer.zero_grad()\n",
    "    \n",
    "        output = net(inputs.float())\n",
    "        loss = criterion(output, labels)\n",
    "        loss.backward()\n",
    "        optimizer.step()\n",
    "\n",
    "        current_loss += loss.item()\n",
    "        category = LABELS[int(labels[0])]\n",
    "\n",
    "        if counter % 500 == 0:\n",
    "            guess, guess_i = categoryFromOutput(output)\n",
    "            correct = '✓' if guess == category else '✗ (%s)' % category\n",
    "            print('epoch : %d iter : %d (%s) %.4f  / %s %s' % (epoch, i, timeSince(start), loss, guess, correct))\n",
    "        \n",
    "        counter = counter + 1\n",
    "    if counter % 100 == 0:\n",
    "        all_losses.append(current_loss / 25)\n",
    "        current_loss = 0"
   ]
  },
  {
   "cell_type": "code",
   "execution_count": 93,
   "id": "351ee068",
   "metadata": {},
   "outputs": [
    {
     "data": {
      "text/plain": [
       "Text(0.5, 1.0, 'losses vs. No. of epochs')"
      ]
     },
     "execution_count": 93,
     "metadata": {},
     "output_type": "execute_result"
    },
    {
     "data": {
      "image/png": "[encoded data removed]",
      "text/plain": [
       "<Figure size 432x288 with 1 Axes>"
      ]
     },
     "metadata": {
      "needs_background": "light"
     },
     "output_type": "display_data"
    }
   ],
   "source": [
    "losses = [np.mean(loss) for loss in all_losses]\n",
    "plt.plot(losses, '-x')\n",
    "plt.xlabel('epoch')\n",
    "plt.ylabel('losses')\n",
    "plt.title('losses vs. No. of epochs')"
   ]
  },
  {
   "cell_type": "code",
   "execution_count": 94,
   "id": "76b01eb2",
   "metadata": {},
   "outputs": [
    {
     "name": "stdout",
     "output_type": "stream",
     "text": [
      "Accuracy of the network:   97.56480754124117\n"
     ]
    }
   ],
   "source": [
    "total = 0\n",
    "right = 0\n",
    "counter = 0\n",
    "\n",
    "net.eval()\n",
    "with torch.no_grad():\n",
    "    for i, data in enumerate(test_loader, 0):\n",
    "        counter = counter + 1\n",
    "        inputs, labels = data[0].to(device), data[1].to(device)  \n",
    "        output = net(inputs.float())\n",
    "        guess, guess_i = categoryFromOutput(output)\n",
    "        category = LABELS[int(labels[0])]\n",
    "        \n",
    "        if guess == category:\n",
    "            right = right + 1\n",
    "\n",
    "\n",
    "print('Accuracy of the network:  ',  (100 * right / counter))"
   ]
  },
  {
   "cell_type": "markdown",
   "id": "e5b9beb3",
   "metadata": {},
   "source": [
    "Сохраним нашу модель:"
   ]
  },
  {
   "cell_type": "code",
   "execution_count": 95,
   "id": "273e11b6",
   "metadata": {},
   "outputs": [],
   "source": [
    "torch.save(net.state_dict(), 'model_2000_epochs.pth')"
   ]
  },
  {
   "cell_type": "markdown",
   "id": "62ece31d",
   "metadata": {},
   "source": [
    "Загрузим модель:"
   ]
  },
  {
   "cell_type": "code",
   "execution_count": 96,
   "id": "841d852c",
   "metadata": {},
   "outputs": [
    {
     "data": {
      "text/plain": [
       "ResNet(\n",
       "  (fc1): Linear(in_features=63, out_features=256, bias=True)\n",
       "  (elu1): ELU(alpha=1.0, inplace=True)\n",
       "  (fc2): Linear(in_features=256, out_features=512, bias=True)\n",
       "  (elu2): ELU(alpha=1.0, inplace=True)\n",
       "  (dr1): Dropout(p=0.5, inplace=False)\n",
       "  (fc3): Linear(in_features=512, out_features=4, bias=True)\n",
       "  (sm): Softmax(dim=1)\n",
       ")"
      ]
     },
     "execution_count": 96,
     "metadata": {},
     "output_type": "execute_result"
    }
   ],
   "source": [
    "net = ResNet(input_dim, output_dim).to(device)\n",
    "net.load_state_dict(torch.load('model_2000_epochs.pth'))\n",
    "net.eval()"
   ]
  },
  {
   "cell_type": "markdown",
   "id": "31826ebd",
   "metadata": {},
   "source": [
    "## 4. Прототип приложения для определения человека и жестов рук перед веб-камерой или по видео"
   ]
  },
  {
   "cell_type": "code",
   "execution_count": 99,
   "id": "cdbe0c6e",
   "metadata": {},
   "outputs": [],
   "source": [
    "# Функция рисования найденных параметров на кадре\n",
    "def draw(frame, boxes, probs, landmarks):\n",
    "    try:\n",
    "        for box, prob, ld in zip(boxes, probs, landmarks):\n",
    "            # Рисуем обрамляющий прямоугольник лица на кадре\n",
    "            cv2.rectangle(frame,\n",
    "                          (int(box[0]), int(box[1])),\n",
    "                          (int(box[2]), int(box[3])),\n",
    "                          (240, 15, 201),\n",
    "                          thickness=3)\n",
    "\n",
    "    except Exception as e:\n",
    "        pass\n",
    "    return frame"
   ]
  },
  {
   "cell_type": "code",
   "execution_count": 110,
   "id": "704339f0",
   "metadata": {},
   "outputs": [],
   "source": [
    "# For video input:\n",
    "# file_name = \"121.mp4\"\n",
    "# cap = cv2.VideoCapture(file_name)  \n",
    "\n",
    "# For webcam input:\n",
    "cap = cv2.VideoCapture('http://192.168.1.2:8080/video') # В качестве веб-камеры использовал телефон  \n",
    "\n",
    "mtcnn = MTCNN()\n",
    "gesture_name = []\n",
    "pre_char=''\n",
    "current_char=''\n",
    "count = 0\n",
    "\n",
    "with mp_hands.Hands(\n",
    "    min_detection_confidence=0.75,\n",
    "    min_tracking_confidence=0.75,\n",
    "    max_num_hands=1) as hands:\n",
    "    while cap.isOpened():\n",
    "        success, image = cap.read()\n",
    "        if not success:\n",
    "            print(\"Ignoring empty camera frame.\")\n",
    "            # If loading a video, use 'break' instead of 'continue'.\n",
    "            break\n",
    "            # continue\n",
    "            \n",
    "        scale_percent = 50    \n",
    "        width  = int(image.shape[1] * scale_percent / 100)\n",
    "        height = int(image.shape[0] * scale_percent / 100)\n",
    "\n",
    "        # dsize\n",
    "        dsize = (width, height)    \n",
    "\n",
    "        # resize image\n",
    "        image = cv2.resize(image, dsize)\n",
    "        try:        \n",
    "            boxes, probs, landmarks = mtcnn.detect(image, landmarks=True)                \n",
    "            image = draw(image, boxes, probs, landmarks)        \n",
    "        except:\n",
    "            pass\n",
    "                \n",
    "        palm_vector_list = []\n",
    "        \n",
    "        # Flip the image horizontally for a later selfie-view display, and convert\n",
    "        # the BGR image to RGB.\n",
    "        \n",
    "        image = cv2.cvtColor(cv2.flip(image, 1), cv2.COLOR_BGR2RGB)      \n",
    "        # To improve performance, optionally mark the image as not writeable to\n",
    "        # pass by reference.\n",
    "        image.flags.writeable = False\n",
    "        results = hands.process(image)\n",
    "\n",
    "        # Draw the hand mesh annotations on the image.\n",
    "        image.flags.writeable = True\n",
    "        image = cv2.cvtColor(image, cv2.COLOR_RGB2BGR)\n",
    "        \n",
    "        if results.multi_hand_landmarks:\n",
    "            for hand_landmarks in results.multi_hand_landmarks:\n",
    "                for n_point in range(len(results.multi_hand_landmarks[0].landmark)):\n",
    "                    palm_vector_list.append(hand_landmarks.landmark[n_point].x)\n",
    "                    palm_vector_list.append(hand_landmarks.landmark[n_point].y)                        \n",
    "                    palm_vector_list.append(hand_landmarks.landmark[n_point].z)                \n",
    "                mp_drawing.draw_landmarks(image, hand_landmarks, mp_hands.HAND_CONNECTIONS) \n",
    "\n",
    "            \n",
    "            prob=torch.tensor(np.array(palm_vector_list), dtype=torch.float, device=device)\n",
    "            prob=torch.reshape(prob, (1, X_data.shape[1]))\n",
    "            \n",
    "            result = net(prob)\n",
    "            \n",
    "            emotion = categoryFromOutput(result)[0]\n",
    "            \n",
    "            cv2.putText(image, \n",
    "                        emotion, (30, 50), cv2.FONT_HERSHEY_SIMPLEX, 1, (0, 255, 0), 2, cv2.LINE_AA)\n",
    "\n",
    "            \n",
    "            current_char = emotion\n",
    "            if current_char != pre_char:\n",
    "                gesture_name.append(current_char)\n",
    "                pre_char = current_char\n",
    "                \n",
    "                if current_char == 'Palm':\n",
    "                    count += 1  \n",
    "                    cv2.imwrite('screen/foto_' + str(current_char) + \"_\" + str(count) + '.jpg', image)\n",
    "\n",
    "                if current_char == 'Thumb':\n",
    "                    emotion = 'Hello'\n",
    "                    cv2.putText(image,\n",
    "                                emotion, (70, 70), cv2.FONT_HERSHEY_SIMPLEX, 1, (255, 0, 0), 2, cv2.LINE_AA)\n",
    "\n",
    "            cv2.imshow('MediaPipe PalmMesh', image)\n",
    "\n",
    "        else:\n",
    "            emotion = 'No hand'\n",
    "            cv2.putText(image, \n",
    "                        emotion, (30, 50), cv2.FONT_HERSHEY_SIMPLEX, 1, (0, 0, 255), 2, cv2.LINE_AA)\n",
    "            \n",
    "            cv2.namedWindow('MediaPipe PalmMesh', cv2.WINDOW_NORMAL)\n",
    "            cv2.imshow('MediaPipe PalmMesh', image)\n",
    "              \n",
    "            \n",
    "        # if cv2.waitKey(5) & 0xFF == 27:\n",
    "        #         break\n",
    "    \n",
    "        # For webcam work       \n",
    "        if cv2.waitKey(1) & 0xFF == ord('q'):\n",
    "                break\n",
    "\n",
    "cap.release()\n",
    "cv2.destroyAllWindows()"
   ]
  },
  {
   "cell_type": "code",
   "execution_count": 111,
   "id": "377db868",
   "metadata": {},
   "outputs": [
    {
     "name": "stdout",
     "output_type": "stream",
     "text": [
      "Palm,  I,  Palm,  I,  Palm,  Ok,  Palm,  Thumb,  I,  Thumb,  I,  Palm,  Thumb,  I,  Thumb,  Ok,  Thumb,  Ok,  Thumb,  Ok,  Thumb,  Ok,  Palm,  Thumb,  Palm,  Ok,  Palm,  Thumb,  I,  Thumb,  I,  Thumb,  I,  Thumb,  I,  Thumb,  I,  Thumb,  I,  Thumb,  I,  Thumb,  I,  Palm,  I,  Palm,  I,  Thumb,  I,  Palm,  I,  Thumb,  Palm,  I,  Thumb,  I,  Thumb,  I,  Palm,  I,  Thumb,  I,  Palm,  I,  Palm,  Ok,  Palm,  Thumb,  Ok,  I,  Thumb,  Palm,  Ok,  Palm,  Thumb,  I,  Palm,  "
     ]
    }
   ],
   "source": [
    "# Журнал с распознанными жестами (gesture_name)\n",
    "for gest in gesture_name:\n",
    "    print(gest, end=',  ')"
   ]
  },
  {
   "cell_type": "code",
   "execution_count": null,
   "id": "4ca559c5",
   "metadata": {},
   "outputs": [],
   "source": []
  }
 ],
 "metadata": {
  "kernelspec": {
   "display_name": "Python 3",
   "language": "python",
   "name": "python3"
  },
  "language_info": {
   "codemirror_mode": {
    "name": "ipython",
    "version": 3
   },
   "file_extension": ".py",
   "mimetype": "text/x-python",
   "name": "python",
   "nbconvert_exporter": "python",
   "pygments_lexer": "ipython3",
   "version": "3.7.10"
  }
 },
 "nbformat": 4,
 "nbformat_minor": 5
}
