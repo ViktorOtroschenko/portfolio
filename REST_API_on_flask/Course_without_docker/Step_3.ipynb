{
 "cells": [
  {
   "cell_type": "markdown",
   "id": "neutral-interval",
   "metadata": {},
   "source": [
    "### Строим запрос к нашему сервису"
   ]
  },
  {
   "cell_type": "code",
   "execution_count": 1,
   "id": "compatible-plenty",
   "metadata": {},
   "outputs": [],
   "source": [
    "import pandas as pd\n",
    "import requests\n",
    "\n",
    "import urllib.request\n",
    "import json "
   ]
  },
  {
   "cell_type": "code",
   "execution_count": 2,
   "id": "destroyed-arrow",
   "metadata": {},
   "outputs": [],
   "source": [
    "data = ('Load of manure dumped at Democratic headquarters',\n",
    "        'Print \\nA load of manure was dumped outside the Democratic Party headquarters in Warren County. \\n“What reasonable person thinks this is OK????” party chair Bethe Goldenfield said in a post in the Greater Cincinnati Politics Facebook Group . “I won’t be responding to anyone who thinks this is acceptable behavior. It is ILLEGAL!” \\nThe same thing happened in 2012, Goldenfield noted. The suburban Cincinnati county is overwhelmingly Republican; Mitt Romney got 69 percent of the vote four years ago. It’s been almost 40 years since a Democrat was elected to countywide office. \\nGoldenfield told The Enquirer the Warren County Sheriff’s Office called her around 7:45 a.m. Saturday alerting her to the manure pile outside the Lebanon building. Deputies met party officials later to review video. \\n“Hopefully the perps will be held accountable for their actions,” she said. \\nJeff Monroe, chairman of the Warren County Republican Party, said the GOP had nothing to do with the manure “and has offered to help clean things up.”')"
   ]
  },
  {
   "cell_type": "code",
   "execution_count": 3,
   "id": "dramatic-occasions",
   "metadata": {},
   "outputs": [
    {
     "name": "stdout",
     "output_type": "stream",
     "text": [
      "предсказание 0.8408372740402843\n"
     ]
    }
   ],
   "source": [
    "# формируем запрос\n",
    "def send_json(x):\n",
    "    title, text = x\n",
    "    #print(description, company_profile, benefits)\n",
    "    body = {'title': title, \n",
    "            'text': text\n",
    "            }\n",
    "    myurl = 'http://127.0.0.1:5000/predict'\n",
    "    headers = {'content-type': 'application/json; charset=utf-8'}\n",
    "    response = requests.post(myurl, json=body, headers=headers)\n",
    "    return response.json()['predictions']\n",
    "\n",
    "# обращение к серверу с запросом из одного набора (его построили руками выше - data)\n",
    "if __name__ == '__main__':\n",
    "    response = send_json(data)\n",
    "    print('предсказание',response)"
   ]
  },
  {
   "cell_type": "markdown",
   "id": "unavailable-dollar",
   "metadata": {},
   "source": [
    "Сделаем обработку массы запросов:\n",
    "\n",
    "загрузим данные из news_test.csv"
   ]
  },
  {
   "cell_type": "code",
   "execution_count": 4,
   "id": "hairy-sector",
   "metadata": {},
   "outputs": [],
   "source": [
    "data = pd.read_csv('news_test.csv')"
   ]
  },
  {
   "cell_type": "code",
   "execution_count": 5,
   "id": "independent-apple",
   "metadata": {},
   "outputs": [
    {
     "data": {
      "text/html": [
       "<div>\n",
       "<style scoped>\n",
       "    .dataframe tbody tr th:only-of-type {\n",
       "        vertical-align: middle;\n",
       "    }\n",
       "\n",
       "    .dataframe tbody tr th {\n",
       "        vertical-align: top;\n",
       "    }\n",
       "\n",
       "    .dataframe thead th {\n",
       "        text-align: right;\n",
       "    }\n",
       "</style>\n",
       "<table border=\"1\" class=\"dataframe\">\n",
       "  <thead>\n",
       "    <tr style=\"text-align: right;\">\n",
       "      <th></th>\n",
       "      <th>id</th>\n",
       "      <th>title</th>\n",
       "      <th>author</th>\n",
       "      <th>text</th>\n",
       "    </tr>\n",
       "  </thead>\n",
       "  <tbody>\n",
       "    <tr>\n",
       "      <th>0</th>\n",
       "      <td>20800</td>\n",
       "      <td>Specter of Trump Loosens Tongues, if Not Purse...</td>\n",
       "      <td>David Streitfeld</td>\n",
       "      <td>PALO ALTO, Calif.  —   After years of scorning...</td>\n",
       "    </tr>\n",
       "    <tr>\n",
       "      <th>1</th>\n",
       "      <td>20801</td>\n",
       "      <td>Russian warships ready to strike terrorists ne...</td>\n",
       "      <td>NaN</td>\n",
       "      <td>Russian warships ready to strike terrorists ne...</td>\n",
       "    </tr>\n",
       "    <tr>\n",
       "      <th>2</th>\n",
       "      <td>20802</td>\n",
       "      <td>#NoDAPL: Native American Leaders Vow to Stay A...</td>\n",
       "      <td>Common Dreams</td>\n",
       "      <td>Videos #NoDAPL: Native American Leaders Vow to...</td>\n",
       "    </tr>\n",
       "  </tbody>\n",
       "</table>\n",
       "</div>"
      ],
      "text/plain": [
       "      id                                              title            author  \\\n",
       "0  20800  Specter of Trump Loosens Tongues, if Not Purse...  David Streitfeld   \n",
       "1  20801  Russian warships ready to strike terrorists ne...               NaN   \n",
       "2  20802  #NoDAPL: Native American Leaders Vow to Stay A...     Common Dreams   \n",
       "\n",
       "                                                text  \n",
       "0  PALO ALTO, Calif.  —   After years of scorning...  \n",
       "1  Russian warships ready to strike terrorists ne...  \n",
       "2  Videos #NoDAPL: Native American Leaders Vow to...  "
      ]
     },
     "execution_count": 5,
     "metadata": {},
     "output_type": "execute_result"
    }
   ],
   "source": [
    "data.head(3)"
   ]
  },
  {
   "cell_type": "code",
   "execution_count": 6,
   "id": "static-assist",
   "metadata": {},
   "outputs": [],
   "source": [
    "response = send_json(data[['title', 'text']].iloc[0,:])"
   ]
  },
  {
   "cell_type": "code",
   "execution_count": 7,
   "id": "tested-capitol",
   "metadata": {},
   "outputs": [
    {
     "data": {
      "text/plain": [
       "0.014283113124919871"
      ]
     },
     "execution_count": 7,
     "metadata": {},
     "output_type": "execute_result"
    }
   ],
   "source": [
    "response"
   ]
  },
  {
   "cell_type": "markdown",
   "id": "mental-formation",
   "metadata": {},
   "source": [
    "Сделаем N запросов и оценим время"
   ]
  },
  {
   "cell_type": "code",
   "execution_count": 9,
   "id": "large-philip",
   "metadata": {},
   "outputs": [],
   "source": [
    "N = 500"
   ]
  },
  {
   "cell_type": "code",
   "execution_count": 10,
   "id": "exciting-holiday",
   "metadata": {},
   "outputs": [
    {
     "name": "stdout",
     "output_type": "stream",
     "text": [
      "Wall time: 3.61 s\n"
     ]
    }
   ],
   "source": [
    "%%time\n",
    "predictions = data[['title', 'text']].iloc[:N,:].apply(lambda x: send_json(x),1)"
   ]
  },
  {
   "cell_type": "code",
   "execution_count": 11,
   "id": "abroad-forty",
   "metadata": {},
   "outputs": [
    {
     "data": {
      "text/plain": [
       "array([0.01428311, 0.95045439, 0.95262126, 0.0103803 , 0.94267861])"
      ]
     },
     "execution_count": 11,
     "metadata": {},
     "output_type": "execute_result"
    }
   ],
   "source": [
    "predictions.values[:5]"
   ]
  },
  {
   "cell_type": "code",
   "execution_count": 12,
   "id": "streaming-programming",
   "metadata": {},
   "outputs": [],
   "source": [
    "y_test = pd.read_csv('news_y_test.csv')"
   ]
  },
  {
   "cell_type": "code",
   "execution_count": 13,
   "id": "constitutional-hudson",
   "metadata": {},
   "outputs": [],
   "source": [
    "y_test = y_test.drop(('id'), axis=1)"
   ]
  },
  {
   "cell_type": "code",
   "execution_count": 14,
   "id": "hybrid-identification",
   "metadata": {},
   "outputs": [
    {
     "data": {
      "text/html": [
       "<div>\n",
       "<style scoped>\n",
       "    .dataframe tbody tr th:only-of-type {\n",
       "        vertical-align: middle;\n",
       "    }\n",
       "\n",
       "    .dataframe tbody tr th {\n",
       "        vertical-align: top;\n",
       "    }\n",
       "\n",
       "    .dataframe thead th {\n",
       "        text-align: right;\n",
       "    }\n",
       "</style>\n",
       "<table border=\"1\" class=\"dataframe\">\n",
       "  <thead>\n",
       "    <tr style=\"text-align: right;\">\n",
       "      <th></th>\n",
       "      <th>label</th>\n",
       "    </tr>\n",
       "  </thead>\n",
       "  <tbody>\n",
       "    <tr>\n",
       "      <th>0</th>\n",
       "      <td>0</td>\n",
       "    </tr>\n",
       "    <tr>\n",
       "      <th>1</th>\n",
       "      <td>1</td>\n",
       "    </tr>\n",
       "    <tr>\n",
       "      <th>2</th>\n",
       "      <td>0</td>\n",
       "    </tr>\n",
       "  </tbody>\n",
       "</table>\n",
       "</div>"
      ],
      "text/plain": [
       "   label\n",
       "0      0\n",
       "1      1\n",
       "2      0"
      ]
     },
     "execution_count": 14,
     "metadata": {},
     "output_type": "execute_result"
    }
   ],
   "source": [
    "y_test.head(3)"
   ]
  },
  {
   "cell_type": "code",
   "execution_count": 15,
   "id": "alpine-counter",
   "metadata": {},
   "outputs": [],
   "source": [
    "from sklearn.metrics import roc_auc_score"
   ]
  },
  {
   "cell_type": "code",
   "execution_count": 16,
   "id": "beautiful-pharmacy",
   "metadata": {},
   "outputs": [
    {
     "data": {
      "text/plain": [
       "0.7896774193548388"
      ]
     },
     "execution_count": 16,
     "metadata": {},
     "output_type": "execute_result"
    }
   ],
   "source": [
    "roc_auc_score(y_score=predictions.values, y_true=y_test.values[:N])"
   ]
  },
  {
   "cell_type": "code",
   "execution_count": null,
   "id": "fallen-local",
   "metadata": {},
   "outputs": [],
   "source": []
  }
 ],
 "metadata": {
  "kernelspec": {
   "display_name": "Python 3",
   "language": "python",
   "name": "python3"
  },
  "language_info": {
   "codemirror_mode": {
    "name": "ipython",
    "version": 3
   },
   "file_extension": ".py",
   "mimetype": "text/x-python",
   "name": "python",
   "nbconvert_exporter": "python",
   "pygments_lexer": "ipython3",
   "version": "3.7.10"
  }
 },
 "nbformat": 4,
 "nbformat_minor": 5
}
